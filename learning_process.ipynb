{
 "cells": [
  {
   "cell_type": "code",
   "execution_count": 14,
   "metadata": {},
   "outputs": [],
   "source": [
    "import os\n",
    "from keras.applications.vgg16 import VGG16\n",
    "from keras.preprocessing.image import ImageDataGenerator\n",
    "from keras.models import Sequential, Model\n",
    "from keras.layers import Input, Activation, Dropout, Flatten, Dense\n",
    "from keras.preprocessing.image import ImageDataGenerator\n",
    "from keras import optimizers\n",
    "import numpy as np"
   ]
  },
  {
   "cell_type": "code",
   "execution_count": 15,
   "metadata": {},
   "outputs": [],
   "source": [
    "classes = ['kitakata', 'sano']\n",
    "\n",
    "batch_size = 32\n",
    "nb_classes = len(classes)\n",
    "\n",
    "img_rows, img_cols = 150, 150\n",
    "channels = 3\n",
    "\n",
    "train_data_dir = 'train_images'\n",
    "validation_data_dir = 'test_images'\n",
    "\n",
    "nb_train_samples = 500\n",
    "nb_val_samples = 50\n",
    "nb_epoch = 10\n",
    "\n",
    "steps_per_epoch =  int(nb_train_samples/batch_size)"
   ]
  },
  {
   "cell_type": "code",
   "execution_count": 16,
   "metadata": {},
   "outputs": [],
   "source": [
    "result_dir = 'results'\n",
    "if not os.path.exists(result_dir):\n",
    "    os.mkdir(result_dir)"
   ]
  },
  {
   "cell_type": "code",
   "execution_count": 17,
   "metadata": {},
   "outputs": [],
   "source": [
    "# VGG16モデルと学習済み重みをロード\n",
    "# Fully-connected層（FC）はいらないのでinclude_top=False）\n",
    "input_tensor = Input(shape=(img_rows, img_cols, 3))\n",
    "vgg16 = VGG16(include_top=False, weights='imagenet', input_tensor=input_tensor)"
   ]
  },
  {
   "cell_type": "code",
   "execution_count": 18,
   "metadata": {},
   "outputs": [],
   "source": [
    "# 全結合層を構築\n",
    "# Flattenへの入力指定はバッチ数を除く\n",
    "top_model = Sequential()\n",
    "top_model.add(Flatten(input_shape=vgg16.output_shape[1:]))\n",
    "top_model.add(Dense(256, activation='relu'))\n",
    "top_model.add(Dropout(0.5))\n",
    "top_model.add(Dense(nb_classes, activation='softmax'))"
   ]
  },
  {
   "cell_type": "code",
   "execution_count": 19,
   "metadata": {},
   "outputs": [],
   "source": [
    "# VGG16と全結合層を接続\n",
    "model = Model(inputs=vgg16.input, outputs=top_model(vgg16.output))\n",
    "\n",
    "# 最後のconv層の直前までの層は、学習済のため、学習させない\n",
    "for layer in model.layers[:15]:\n",
    "    layer.trainable = False\n",
    "\n",
    "optimizer_adam = optimizers.Adam(lr=1e-4)\n",
    "optimizer_sgd = optimizers.SGD(lr=1e-4, momentum=0.9)\n",
    "\n",
    "model.compile(loss='categorical_crossentropy',\n",
    "              optimizer=optimizer_adam,\n",
    "              metrics=['accuracy'])"
   ]
  },
  {
   "cell_type": "code",
   "execution_count": 20,
   "metadata": {},
   "outputs": [
    {
     "name": "stdout",
     "output_type": "stream",
     "text": [
      "Found 998 images belonging to 2 classes.\n",
      "Found 100 images belonging to 2 classes.\n"
     ]
    }
   ],
   "source": [
    "train_datagen = ImageDataGenerator(\n",
    "    rescale=1.0 / 255,\n",
    "    shear_range=0.2,\n",
    "    zoom_range=0.2,\n",
    "    horizontal_flip=True)\n",
    "\n",
    "test_datagen = ImageDataGenerator(rescale=1.0 / 255)\n",
    "\n",
    " # サブディレクトリをクラス名にしておくと、テスト用の画像を生成してくれる\n",
    "train_generator = train_datagen.flow_from_directory(\n",
    "    train_data_dir,\n",
    "    target_size=(img_rows, img_cols),\n",
    "    color_mode='rgb',\n",
    "    classes=classes,\n",
    "    class_mode='categorical',\n",
    "    batch_size=batch_size,\n",
    "    shuffle=True)\n",
    "\n",
    "validation_generator = test_datagen.flow_from_directory(\n",
    "    validation_data_dir,\n",
    "    target_size=(img_rows, img_cols),\n",
    "    color_mode='rgb',\n",
    "    classes=classes,\n",
    "    class_mode='categorical',\n",
    "    batch_size=batch_size,\n",
    "    shuffle=True)"
   ]
  },
  {
   "cell_type": "code",
   "execution_count": 8,
   "metadata": {},
   "outputs": [
    {
     "name": "stdout",
     "output_type": "stream",
     "text": [
      "Epoch 1/10\n",
      "15/15 [==============================] - 262s 17s/step - loss: 0.8646 - acc: 0.5021 - val_loss: 0.6577 - val_acc: 0.5712\n",
      "Epoch 2/10\n",
      "15/15 [==============================] - 224s 15s/step - loss: 0.6552 - acc: 0.6024 - val_loss: 0.5886 - val_acc: 0.7002\n",
      "Epoch 3/10\n",
      "15/15 [==============================] - 271s 18s/step - loss: 0.5981 - acc: 0.6979 - val_loss: 0.5054 - val_acc: 0.7595\n",
      "Epoch 4/10\n",
      "15/15 [==============================] - 249s 17s/step - loss: 0.5124 - acc: 0.7345 - val_loss: 0.4947 - val_acc: 0.7508\n",
      "Epoch 5/10\n",
      "15/15 [==============================] - 243s 16s/step - loss: 0.5006 - acc: 0.7468 - val_loss: 0.4880 - val_acc: 0.7310\n",
      "Epoch 6/10\n",
      "15/15 [==============================] - 236s 16s/step - loss: 0.4439 - acc: 0.7917 - val_loss: 0.4722 - val_acc: 0.7793\n",
      "Epoch 7/10\n",
      "15/15 [==============================] - 237s 16s/step - loss: 0.3856 - acc: 0.8229 - val_loss: 0.7125 - val_acc: 0.6590\n",
      "Epoch 8/10\n",
      "15/15 [==============================] - 473s 32s/step - loss: 0.4976 - acc: 0.7708 - val_loss: 0.4885 - val_acc: 0.7880\n",
      "Epoch 9/10\n",
      "15/15 [==============================] - 232s 15s/step - loss: 0.3821 - acc: 0.8447 - val_loss: 0.5036 - val_acc: 0.7793\n",
      "Epoch 10/10\n",
      "15/15 [==============================] - 233s 16s/step - loss: 0.3373 - acc: 0.8458 - val_loss: 0.4754 - val_acc: 0.8030\n"
     ]
    }
   ],
   "source": [
    "# Fine-tuning\n",
    "history = model.fit_generator(\n",
    "    train_generator,\n",
    "    steps_per_epoch=steps_per_epoch,\n",
    "    epochs=nb_epoch,\n",
    "    validation_data=validation_generator,\n",
    "    validation_steps=nb_val_samples)"
   ]
  },
  {
   "cell_type": "code",
   "execution_count": 9,
   "metadata": {},
   "outputs": [],
   "source": [
    "model.save_weights(os.path.join(result_dir, 'finetuning.h5'))"
   ]
  }
 ],
 "metadata": {
  "kernelspec": {
   "display_name": "Python 3",
   "language": "python",
   "name": "python3"
  },
  "language_info": {
   "codemirror_mode": {
    "name": "ipython",
    "version": 3
   },
   "file_extension": ".py",
   "mimetype": "text/x-python",
   "name": "python",
   "nbconvert_exporter": "python",
   "pygments_lexer": "ipython3",
   "version": "3.6.3"
  }
 },
 "nbformat": 4,
 "nbformat_minor": 2
}
