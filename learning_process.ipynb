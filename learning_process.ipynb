{
 "cells": [
  {
   "cell_type": "code",
   "execution_count": 9,
   "metadata": {},
   "outputs": [],
   "source": [
    "import os\n",
    "from keras.applications.vgg16 import VGG16\n",
    "from keras.preprocessing.image import ImageDataGenerator\n",
    "from keras.models import Sequential, Model\n",
    "from keras.layers import Input, Activation, Dropout, Flatten, Dense\n",
    "from keras.preprocessing.image import ImageDataGenerator\n",
    "from keras import optimizers\n",
    "import numpy as np"
   ]
  },
  {
   "cell_type": "code",
   "execution_count": 10,
   "metadata": {},
   "outputs": [],
   "source": [
    "classes = ['kitakata', 'sano']\n",
    "\n",
    "batch_size = 32\n",
    "nb_classes = len(classes)\n",
    "\n",
    "img_rows, img_cols = 150, 150\n",
    "channels = 3\n",
    "\n",
    "train_data_dir = 'train_images'\n",
    "validation_data_dir = 'test_images'\n",
    "\n",
    "nb_train_samples = 500\n",
    "nb_val_samples = 50\n",
    "nb_epoch = 30\n",
    "\n",
    "steps_per_epoch =  int(nb_train_samples/batch_size)"
   ]
  },
  {
   "cell_type": "code",
   "execution_count": 11,
   "metadata": {},
   "outputs": [],
   "source": [
    "result_dir = 'results'\n",
    "if not os.path.exists(result_dir):\n",
    "    os.mkdir(result_dir)"
   ]
  },
  {
   "cell_type": "code",
   "execution_count": 12,
   "metadata": {},
   "outputs": [],
   "source": [
    "# VGG16モデルと学習済み重みをロード\n",
    "# Fully-connected層（FC）はいらないのでinclude_top=False）\n",
    "input_tensor = Input(shape=(img_rows, img_cols, 3))\n",
    "vgg16 = VGG16(include_top=False, weights='imagenet', input_tensor=input_tensor)"
   ]
  },
  {
   "cell_type": "code",
   "execution_count": 13,
   "metadata": {},
   "outputs": [],
   "source": [
    "# 全結合層を構築\n",
    "# Flattenへの入力指定はバッチ数を除く\n",
    "top_model = Sequential()\n",
    "top_model.add(Flatten(input_shape=vgg16.output_shape[1:]))\n",
    "top_model.add(Dense(256, activation='relu'))\n",
    "top_model.add(Dropout(0.5))\n",
    "top_model.add(Dense(nb_classes, activation='softmax'))"
   ]
  },
  {
   "cell_type": "code",
   "execution_count": 14,
   "metadata": {},
   "outputs": [],
   "source": [
    "# VGG16と全結合層を接続\n",
    "model = Model(inputs=vgg16.input, outputs=top_model(vgg16.output))\n",
    "\n",
    "# 最後のconv層の直前までの層は、学習済のため、学習させない\n",
    "for layer in model.layers[:15]:\n",
    "    layer.trainable = False\n",
    "\n",
    "optimizer_adam = optimizers.Adam(lr=1e-4)\n",
    "optimizer_sgd = optimizers.SGD(lr=1e-4, momentum=0.9)\n",
    "\n",
    "model.compile(loss='categorical_crossentropy',\n",
    "              optimizer=optimizer_adam,\n",
    "              metrics=['accuracy'])"
   ]
  },
  {
   "cell_type": "code",
   "execution_count": 15,
   "metadata": {},
   "outputs": [
    {
     "name": "stdout",
     "output_type": "stream",
     "text": [
      "Found 998 images belonging to 2 classes.\n",
      "Found 100 images belonging to 2 classes.\n"
     ]
    }
   ],
   "source": [
    "train_datagen = ImageDataGenerator(\n",
    "    rescale=1.0 / 255,\n",
    "    shear_range=0.2,\n",
    "    zoom_range=0.2,\n",
    "    horizontal_flip=True)\n",
    "\n",
    "test_datagen = ImageDataGenerator(rescale=1.0 / 255)\n",
    "\n",
    " # サブディレクトリをクラス名にしておくと、テスト用の画像を生成してくれる\n",
    "train_generator = train_datagen.flow_from_directory(\n",
    "    train_data_dir,\n",
    "    target_size=(img_rows, img_cols),\n",
    "    color_mode='rgb',\n",
    "    classes=classes,\n",
    "    class_mode='categorical',\n",
    "    batch_size=batch_size,\n",
    "    shuffle=True)\n",
    "\n",
    "validation_generator = test_datagen.flow_from_directory(\n",
    "    validation_data_dir,\n",
    "    target_size=(img_rows, img_cols),\n",
    "    color_mode='rgb',\n",
    "    classes=classes,\n",
    "    class_mode='categorical',\n",
    "    batch_size=batch_size,\n",
    "    shuffle=True)"
   ]
  },
  {
   "cell_type": "code",
   "execution_count": 16,
   "metadata": {},
   "outputs": [
    {
     "name": "stdout",
     "output_type": "stream",
     "text": [
      "Epoch 1/30\n",
      "15/15 [==============================] - 227s 15s/step - loss: 0.8144 - acc: 0.5271 - val_loss: 0.6698 - val_acc: 0.5063\n",
      "Epoch 2/30\n",
      "15/15 [==============================] - 230s 15s/step - loss: 0.6303 - acc: 0.6542 - val_loss: 0.5659 - val_acc: 0.7413\n",
      "Epoch 3/30\n",
      "15/15 [==============================] - 233s 16s/step - loss: 0.5364 - acc: 0.7182 - val_loss: 0.4942 - val_acc: 0.7366\n",
      "Epoch 4/30\n",
      "15/15 [==============================] - 231s 15s/step - loss: 0.5113 - acc: 0.7458 - val_loss: 0.4994 - val_acc: 0.7603\n",
      "Epoch 5/30\n",
      "15/15 [==============================] - 234s 16s/step - loss: 0.4991 - acc: 0.7729 - val_loss: 0.6899 - val_acc: 0.6788\n",
      "Epoch 6/30\n",
      "15/15 [==============================] - 241s 16s/step - loss: 0.5297 - acc: 0.7281 - val_loss: 0.4643 - val_acc: 0.7911\n",
      "Epoch 7/30\n",
      "15/15 [==============================] - 231s 15s/step - loss: 0.4515 - acc: 0.7636 - val_loss: 0.4766 - val_acc: 0.7508\n",
      "Epoch 8/30\n",
      "15/15 [==============================] - 238s 16s/step - loss: 0.3774 - acc: 0.8187 - val_loss: 0.4260 - val_acc: 0.8101\n",
      "Epoch 9/30\n",
      "15/15 [==============================] - 232s 15s/step - loss: 0.3975 - acc: 0.8146 - val_loss: 0.5054 - val_acc: 0.7785\n",
      "Epoch 10/30\n",
      "15/15 [==============================] - 227s 15s/step - loss: 0.3430 - acc: 0.8472 - val_loss: 0.4401 - val_acc: 0.8101\n",
      "Epoch 11/30\n",
      "15/15 [==============================] - 238s 16s/step - loss: 0.3278 - acc: 0.8750 - val_loss: 0.4635 - val_acc: 0.7991\n",
      "Epoch 12/30\n",
      "15/15 [==============================] - 231s 15s/step - loss: 0.2916 - acc: 0.8849 - val_loss: 0.4382 - val_acc: 0.8283\n",
      "Epoch 13/30\n",
      "15/15 [==============================] - 225s 15s/step - loss: 0.2996 - acc: 0.8750 - val_loss: 0.5766 - val_acc: 0.7801\n",
      "Epoch 14/30\n",
      "15/15 [==============================] - 228s 15s/step - loss: 0.2629 - acc: 0.8765 - val_loss: 0.4337 - val_acc: 0.7983\n",
      "Epoch 15/30\n",
      "15/15 [==============================] - 226s 15s/step - loss: 0.2603 - acc: 0.8938 - val_loss: 0.4603 - val_acc: 0.8378\n",
      "Epoch 16/30\n",
      "15/15 [==============================] - 245s 16s/step - loss: 0.1837 - acc: 0.9187 - val_loss: 0.6058 - val_acc: 0.7983\n",
      "Epoch 17/30\n",
      "15/15 [==============================] - 226s 15s/step - loss: 0.1908 - acc: 0.9268 - val_loss: 0.5136 - val_acc: 0.8085\n",
      "Epoch 18/30\n",
      "15/15 [==============================] - 230s 15s/step - loss: 0.1734 - acc: 0.9292 - val_loss: 0.5090 - val_acc: 0.8386\n",
      "Epoch 19/30\n",
      "15/15 [==============================] - 227s 15s/step - loss: 0.1758 - acc: 0.9310 - val_loss: 0.4723 - val_acc: 0.8489\n",
      "Epoch 20/30\n",
      "15/15 [==============================] - 233s 16s/step - loss: 0.1203 - acc: 0.9563 - val_loss: 0.8407 - val_acc: 0.7682\n",
      "Epoch 21/30\n",
      "15/15 [==============================] - 225s 15s/step - loss: 0.1708 - acc: 0.9289 - val_loss: 0.5893 - val_acc: 0.7294\n",
      "Epoch 22/30\n",
      "15/15 [==============================] - 232s 15s/step - loss: 0.1779 - acc: 0.9310 - val_loss: 0.5188 - val_acc: 0.8204\n",
      "Epoch 23/30\n",
      "15/15 [==============================] - 235s 16s/step - loss: 0.1149 - acc: 0.9521 - val_loss: 0.6642 - val_acc: 0.7880\n",
      "Epoch 24/30\n",
      "15/15 [==============================] - 238s 16s/step - loss: 0.0641 - acc: 0.9791 - val_loss: 0.5848 - val_acc: 0.8473\n",
      "Epoch 25/30\n",
      "15/15 [==============================] - 234s 16s/step - loss: 0.1019 - acc: 0.9583 - val_loss: 0.5520 - val_acc: 0.8600\n",
      "Epoch 26/30\n",
      "15/15 [==============================] - 229s 15s/step - loss: 0.0941 - acc: 0.9707 - val_loss: 0.6180 - val_acc: 0.8014\n",
      "Epoch 27/30\n",
      "15/15 [==============================] - 232s 15s/step - loss: 0.1198 - acc: 0.9604 - val_loss: 0.7545 - val_acc: 0.7872\n",
      "Epoch 28/30\n",
      "15/15 [==============================] - 229s 15s/step - loss: 0.0996 - acc: 0.9646 - val_loss: 0.5557 - val_acc: 0.8410\n",
      "Epoch 29/30\n",
      "15/15 [==============================] - 241s 16s/step - loss: 0.0695 - acc: 0.9667 - val_loss: 0.6452 - val_acc: 0.8291\n",
      "Epoch 30/30\n",
      "15/15 [==============================] - 221s 15s/step - loss: 0.0410 - acc: 0.9895 - val_loss: 0.8547 - val_acc: 0.7919\n"
     ]
    }
   ],
   "source": [
    "# Fine-tuning\n",
    "history = model.fit_generator(\n",
    "    train_generator,\n",
    "    steps_per_epoch=steps_per_epoch,\n",
    "    epochs=nb_epoch,\n",
    "    validation_data=validation_generator,\n",
    "    validation_steps=nb_val_samples)"
   ]
  },
  {
   "cell_type": "code",
   "execution_count": 17,
   "metadata": {},
   "outputs": [],
   "source": [
    "model.save_weights(os.path.join(result_dir, 'finetuning.h5'))"
   ]
  }
 ],
 "metadata": {
  "kernelspec": {
   "display_name": "Python 3",
   "language": "python",
   "name": "python3"
  },
  "language_info": {
   "codemirror_mode": {
    "name": "ipython",
    "version": 3
   },
   "file_extension": ".py",
   "mimetype": "text/x-python",
   "name": "python",
   "nbconvert_exporter": "python",
   "pygments_lexer": "ipython3",
   "version": "3.6.3"
  }
 },
 "nbformat": 4,
 "nbformat_minor": 2
}
